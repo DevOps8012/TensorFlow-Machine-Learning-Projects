{
 "cells": [
  {
   "cell_type": "markdown",
   "metadata": {
    "toc": true
   },
   "source": [
    "<h1>Table of Contents<span class=\"tocSkip\"></span></h1>\n",
    "<div class=\"toc\"><ul class=\"toc-item\"></ul></div>"
   ]
  },
  {
   "cell_type": "code",
   "execution_count": 1,
   "metadata": {},
   "outputs": [
    {
     "name": "stdout",
     "output_type": "stream",
     "text": [
      "NumPy:1.15.0\n",
      "TensorFlow:1.10.0\n",
      "Keras:2.1.6-tf\n",
      "OpenAI Gym: 0.10.5\n"
     ]
    }
   ],
   "source": [
    "import numpy as np\n",
    "np.random.seed(123)\n",
    "print(\"NumPy:{}\".format(np.__version__))\n",
    "\n",
    "import tensorflow as tf\n",
    "tf.set_random_seed(123)\n",
    "print(\"TensorFlow:{}\".format(tf.__version__))\n",
    "\n",
    "import tensorflow.keras as keras\n",
    "print(\"Keras:{}\".format(keras.__version__))\n",
    "\n",
    "import gym\n",
    "print('OpenAI Gym:',gym.__version__)"
   ]
  },
  {
   "cell_type": "code",
   "execution_count": 2,
   "metadata": {},
   "outputs": [],
   "source": [
    "env=gym.make('MsPacman-v0')"
   ]
  },
  {
   "cell_type": "code",
   "execution_count": 3,
   "metadata": {},
   "outputs": [],
   "source": [
    "_=env.reset()"
   ]
  },
  {
   "cell_type": "code",
   "execution_count": 4,
   "metadata": {},
   "outputs": [],
   "source": [
    "env.frameskip = 3"
   ]
  },
  {
   "cell_type": "code",
   "execution_count": 20,
   "metadata": {},
   "outputs": [
    {
     "name": "stdout",
     "output_type": "stream",
     "text": [
      "Episode 0 finished at t 199807650\n"
     ]
    }
   ],
   "source": [
    "import time\n",
    "import pygame\n",
    "\n",
    "frame_time = 1.0 / 15  # seconds\n",
    "\n",
    "pygame.init()\n",
    "\n",
    "# directions mapped on keyboard\n",
    "actions = {'u': 6, 'i': 1, 'o': 5,\n",
    "           'j': 3, 'k': 0, 'l': 2,\n",
    "           'm': 8, ',': 4, '.': 7}\n",
    "actions = {ord(key): value\n",
    "           for key, value in actions.items()}\n",
    "\n",
    "\n",
    "then = 0\n",
    "done = False\n",
    "last_key = ord('k')\n",
    "\n",
    "n_episodes = 1\n",
    "\n",
    "for i_episode in range(n_episodes):\n",
    "    t=0\n",
    "    env.reset()\n",
    "    while not done:\n",
    "        now = time.time()\n",
    "        if frame_time < now - then:\n",
    "            action = env.action_space.sample()\n",
    "            observation, reward, done, info = env.step(action)\n",
    "            env.render()\n",
    "            then = now\n",
    "        t=t+1\n",
    "    print(\"Episode {} finished at t {}\".format(i_episode,t))"
   ]
  },
  {
   "cell_type": "code",
   "execution_count": 21,
   "metadata": {},
   "outputs": [],
   "source": [
    "env.close()"
   ]
  },
  {
   "cell_type": "code",
   "execution_count": null,
   "metadata": {},
   "outputs": [],
   "source": []
  },
  {
   "cell_type": "code",
   "execution_count": null,
   "metadata": {},
   "outputs": [],
   "source": []
  }
 ],
 "metadata": {
  "kernelspec": {
   "display_name": "Python 3",
   "language": "python",
   "name": "python3"
  },
  "language_info": {
   "codemirror_mode": {
    "name": "ipython",
    "version": 3
   },
   "file_extension": ".py",
   "mimetype": "text/x-python",
   "name": "python",
   "nbconvert_exporter": "python",
   "pygments_lexer": "ipython3",
   "version": "3.6.6"
  },
  "toc": {
   "base_numbering": 1,
   "nav_menu": {},
   "number_sections": true,
   "sideBar": true,
   "skip_h1_title": true,
   "title_cell": "Table of Contents",
   "title_sidebar": "Contents",
   "toc_cell": true,
   "toc_position": {},
   "toc_section_display": true,
   "toc_window_display": true
  }
 },
 "nbformat": 4,
 "nbformat_minor": 2
}
