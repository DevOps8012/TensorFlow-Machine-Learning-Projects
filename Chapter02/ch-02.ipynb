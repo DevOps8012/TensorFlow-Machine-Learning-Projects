{
 "cells": [
  {
   "cell_type": "markdown",
   "metadata": {
    "toc": true
   },
   "source": [
    "<h1>Table of Contents<span class=\"tocSkip\"></span></h1>\n",
    "<div class=\"toc\"><ul class=\"toc-item\"></ul></div>"
   ]
  },
  {
   "cell_type": "code",
   "execution_count": 1,
   "metadata": {},
   "outputs": [
    {
     "name": "stdout",
     "output_type": "stream",
     "text": [
      "TensorFlow Version : 1.10.0\n",
      "Python interpreter and version: 3.6.6 |Anaconda custom (64-bit)| (default, Jun 28 2018, 17:14:51) \n",
      "[GCC 7.2.0]\n"
     ]
    }
   ],
   "source": [
    "import tensorflow as tf\n",
    "import numpy as np\n",
    "print('TensorFlow Version :',tf.__version__)\n",
    "import os\n",
    "import sys\n",
    "print('Python interpreter and version:',sys.version)"
   ]
  },
  {
   "cell_type": "code",
   "execution_count": 2,
   "metadata": {},
   "outputs": [
    {
     "data": {
      "text/plain": [
       "['exoTest.csv', 'kepler-labelled-time-series-data.zip', 'exoTrain.csv']"
      ]
     },
     "execution_count": 2,
     "metadata": {},
     "output_type": "execute_result"
    }
   ],
   "source": [
    "dsroot = os.path.join(os.path.expanduser('~'),'datasets','kaggle-kepler')\n",
    "os.listdir(dsroot)"
   ]
  },
  {
   "cell_type": "code",
   "execution_count": 3,
   "metadata": {},
   "outputs": [
    {
     "name": "stdout",
     "output_type": "stream",
     "text": [
      "Training data\n",
      "    LABEL   FLUX.1   FLUX.2   FLUX.3   FLUX.4   FLUX.5   FLUX.6  FLUX.7  \\\n",
      "0      2    93.85    83.81    20.10   -26.98   -39.56  -124.71 -135.18   \n",
      "1      2   -38.88   -33.83   -58.54   -40.09   -79.31   -72.81  -86.55   \n",
      "2      2   532.64   535.92   513.73   496.92   456.45   466.00  464.50   \n",
      "3      2   326.52   347.39   302.35   298.13   317.74   312.70  322.33   \n",
      "4      2 -1107.21 -1112.59 -1118.95 -1095.10 -1057.55 -1034.48 -998.34   \n",
      "\n",
      "    FLUX.8  FLUX.9    ...      FLUX.3188  FLUX.3189  FLUX.3190  FLUX.3191  \\\n",
      "0   -96.27  -79.89    ...         -78.07    -102.15    -102.15      25.13   \n",
      "1   -85.33  -83.97    ...          -3.28     -32.21     -32.21     -24.89   \n",
      "2   486.39  436.56    ...         -71.69      13.31      13.31     -29.89   \n",
      "3   311.31  312.42    ...           5.71      -3.73      -3.73      30.05   \n",
      "4 -1022.71 -989.57    ...        -594.37    -401.66    -401.66    -357.24   \n",
      "\n",
      "   FLUX.3192  FLUX.3193  FLUX.3194  FLUX.3195  FLUX.3196  FLUX.3197  \n",
      "0      48.57      92.54      39.32      61.42       5.08     -39.54  \n",
      "1      -4.86       0.76     -11.70       6.46      16.00      19.93  \n",
      "2     -20.88       5.06     -11.80     -28.91     -70.02     -96.67  \n",
      "3      20.03     -12.67      -8.77     -17.31     -17.35      13.98  \n",
      "4    -443.76    -438.54    -399.71    -384.65    -411.79    -510.54  \n",
      "\n",
      "[5 rows x 3198 columns]\n",
      "Test data\n",
      "    LABEL   FLUX.1   FLUX.2   FLUX.3   FLUX.4   FLUX.5   FLUX.6   FLUX.7  \\\n",
      "0      2   119.88   100.21    86.46    48.68    46.12    39.39    18.57   \n",
      "1      2  5736.59  5699.98  5717.16  5692.73  5663.83  5631.16  5626.39   \n",
      "2      2   844.48   817.49   770.07   675.01   605.52   499.45   440.77   \n",
      "3      2  -826.00  -827.31  -846.12  -836.03  -745.50  -784.69  -791.22   \n",
      "4      2   -39.57   -15.88    -9.16    -6.37   -16.13   -24.05    -0.90   \n",
      "\n",
      "    FLUX.8   FLUX.9    ...      FLUX.3188  FLUX.3189  FLUX.3190  FLUX.3191  \\\n",
      "0     6.98     6.63    ...          14.52      19.29      14.44      -1.62   \n",
      "1  5569.47  5550.44    ...        -581.91    -984.09   -1230.89   -1600.45   \n",
      "2   362.95   207.27    ...          17.82     -51.66     -48.29     -59.99   \n",
      "3  -746.50  -709.53    ...         122.34      93.03      93.03      68.81   \n",
      "4   -45.20    -5.04    ...         -37.87     -61.85     -27.15     -21.18   \n",
      "\n",
      "   FLUX.3192  FLUX.3193  FLUX.3194  FLUX.3195  FLUX.3196  FLUX.3197  \n",
      "0      13.33      45.50      31.93      35.78     269.43      57.72  \n",
      "1   -1824.53   -2061.17   -2265.98   -2366.19   -2294.86   -2034.72  \n",
      "2     -82.10    -174.54     -95.23    -162.68     -36.79      30.63  \n",
      "3       9.81      20.75      20.25    -120.81    -257.56    -215.41  \n",
      "4     -33.76     -85.34     -81.46     -61.98     -69.34     -17.84  \n",
      "\n",
      "[5 rows x 3198 columns]\n"
     ]
    }
   ],
   "source": [
    "import pandas as pd\n",
    "train = pd.read_csv(os.path.join(dsroot,'exoTrain.csv'))\n",
    "test = pd.read_csv(os.path.join(dsroot,'exoTest.csv'))\n",
    "print('Training data\\n',train.head())\n",
    "print('Test data\\n',test.head())"
   ]
  },
  {
   "cell_type": "code",
   "execution_count": 4,
   "metadata": {},
   "outputs": [],
   "source": [
    "x_train = train.drop('LABEL', axis=1)\n",
    "y_train = train.LABEL-1 #subtract one because of TGBT\n",
    "x_test = test.drop('LABEL', axis=1)\n",
    "y_test = test.LABEL-1\n",
    "numeric_column_headers = x_train.columns.values.tolist()\n",
    "\n",
    "bucketized_features = [tf.feature_column.bucketized_column(source_column=tf.feature_column.numeric_column(key = column), \n",
    "                                                           boundaries=[x_train[column].mean()]) \n",
    "                       for column in numeric_column_headers]\n",
    "all_features = bucketized_features  # since there are no other kind of features"
   ]
  },
  {
   "cell_type": "code",
   "execution_count": 5,
   "metadata": {},
   "outputs": [],
   "source": [
    "batch_size = 32\n",
    "\n",
    "train_input_fn = tf.estimator.inputs.pandas_input_fn(x = x_train,\n",
    "                                                        y = y_train,\n",
    "                                                        batch_size = batch_size,\n",
    "                                                        shuffle = True,\n",
    "                                                        num_epochs = None)\n",
    "eval_input_fn = tf.estimator.inputs.pandas_input_fn(x = x_test,\n",
    "                                                    y = y_test,\n",
    "                                                    batch_size = batch_size,\n",
    "                                                    shuffle = False,\n",
    "                                                    num_epochs = 1)"
   ]
  },
  {
   "cell_type": "code",
   "execution_count": 6,
   "metadata": {},
   "outputs": [
    {
     "name": "stdout",
     "output_type": "stream",
     "text": [
      "INFO:tensorflow:Using default config.\n",
      "INFO:tensorflow:Using config: {'_model_dir': './tfbtmodel', '_tf_random_seed': None, '_save_summary_steps': 100, '_save_checkpoints_steps': None, '_save_checkpoints_secs': 600, '_session_config': None, '_keep_checkpoint_max': 5, '_keep_checkpoint_every_n_hours': 10000, '_log_step_count_steps': 100, '_train_distribute': None, '_device_fn': None, '_service': None, '_cluster_spec': <tensorflow.python.training.server_lib.ClusterSpec object at 0x7fdd48c93b38>, '_task_type': 'worker', '_task_id': 0, '_global_id_in_cluster': 0, '_master': '', '_evaluation_master': '', '_is_chief': True, '_num_ps_replicas': 0, '_num_worker_replicas': 1}\n"
     ]
    }
   ],
   "source": [
    "n_trees = 100\n",
    "n_steps = 100\n",
    "model = tf.estimator.BoostedTreesClassifier(feature_columns=all_features, \n",
    "                                                 n_trees = n_trees,\n",
    "                                                 n_batches_per_layer = batch_size,\n",
    "                                                 model_dir='./tfbtmodel')"
   ]
  },
  {
   "cell_type": "code",
   "execution_count": 7,
   "metadata": {},
   "outputs": [
    {
     "name": "stdout",
     "output_type": "stream",
     "text": [
      "INFO:tensorflow:Calling model_fn.\n",
      "INFO:tensorflow:Done calling model_fn.\n",
      "INFO:tensorflow:Create CheckpointSaverHook.\n",
      "WARNING:tensorflow:Issue encountered when serializing resources.\n",
      "Type is unsupported, or the types of the items don't match field type in CollectionDef. Note this is a warning and probably safe to ignore.\n",
      "'_Resource' object has no attribute 'name'\n",
      "INFO:tensorflow:Graph was finalized.\n",
      "INFO:tensorflow:Restoring parameters from ./tfbtmodel/model.ckpt-19201\n",
      "INFO:tensorflow:Running local_init_op.\n",
      "INFO:tensorflow:Done running local_init_op.\n",
      "WARNING:tensorflow:Issue encountered when serializing resources.\n",
      "Type is unsupported, or the types of the items don't match field type in CollectionDef. Note this is a warning and probably safe to ignore.\n",
      "'_Resource' object has no attribute 'name'\n",
      "INFO:tensorflow:Saving checkpoints for 19201 into ./tfbtmodel/model.ckpt.\n",
      "WARNING:tensorflow:Issue encountered when serializing resources.\n",
      "Type is unsupported, or the types of the items don't match field type in CollectionDef. Note this is a warning and probably safe to ignore.\n",
      "'_Resource' object has no attribute 'name'\n",
      "INFO:tensorflow:loss = 1.0475121e-05, step = 19201\n",
      "INFO:tensorflow:Saving checkpoints for 19202 into ./tfbtmodel/model.ckpt.\n",
      "WARNING:tensorflow:Issue encountered when serializing resources.\n",
      "Type is unsupported, or the types of the items don't match field type in CollectionDef. Note this is a warning and probably safe to ignore.\n",
      "'_Resource' object has no attribute 'name'\n",
      "INFO:tensorflow:Loss for final step: 1.0475121e-05.\n"
     ]
    },
    {
     "data": {
      "text/plain": [
       "<tensorflow.python.estimator.canned.boosted_trees.BoostedTreesClassifier at 0x7fdd48c93940>"
      ]
     },
     "execution_count": 7,
     "metadata": {},
     "output_type": "execute_result"
    }
   ],
   "source": [
    "model.train(input_fn=train_input_fn, steps=n_steps)"
   ]
  },
  {
   "cell_type": "code",
   "execution_count": 8,
   "metadata": {},
   "outputs": [
    {
     "name": "stdout",
     "output_type": "stream",
     "text": [
      "INFO:tensorflow:Calling model_fn.\n",
      "WARNING:tensorflow:Trapezoidal rule is known to produce incorrect PR-AUCs; please switch to \"careful_interpolation\" instead.\n",
      "WARNING:tensorflow:Trapezoidal rule is known to produce incorrect PR-AUCs; please switch to \"careful_interpolation\" instead.\n",
      "INFO:tensorflow:Done calling model_fn.\n",
      "INFO:tensorflow:Starting evaluation at 2018-09-06-14:58:44\n",
      "INFO:tensorflow:Graph was finalized.\n",
      "INFO:tensorflow:Restoring parameters from ./tfbtmodel/model.ckpt-19202\n",
      "INFO:tensorflow:Running local_init_op.\n",
      "INFO:tensorflow:Done running local_init_op.\n",
      "INFO:tensorflow:Finished evaluation at 2018-09-06-14:59:01\n",
      "INFO:tensorflow:Saving dict for global step 19202: accuracy = 0.99122804, accuracy_baseline = 0.99122804, auc = 0.49911517, auc_precision_recall = 0.004386465, average_loss = 0.09851996, global_step = 19202, label/mean = 0.00877193, loss = 0.09749381, precision = 0.0, prediction/mean = 4.402521e-05, recall = 0.0\n",
      "WARNING:tensorflow:Issue encountered when serializing resources.\n",
      "Type is unsupported, or the types of the items don't match field type in CollectionDef. Note this is a warning and probably safe to ignore.\n",
      "'_Resource' object has no attribute 'name'\n",
      "INFO:tensorflow:Saving 'checkpoint_path' summary for global step 19202: ./tfbtmodel/model.ckpt-19202\n",
      "accuracy: 0.9912280440330505\n",
      "accuracy_baseline: 0.9912280440330505\n",
      "auc: 0.4991151690483093\n",
      "auc_precision_recall: 0.004386465065181255\n",
      "average_loss: 0.0985199585556984\n",
      "global_step: 19202\n",
      "label/mean: 0.008771929889917374\n",
      "loss: 0.09749381244182587\n",
      "precision: 0.0\n",
      "prediction/mean: 4.4025211536791176e-05\n",
      "recall: 0.0\n"
     ]
    }
   ],
   "source": [
    "results = model.evaluate(input_fn=eval_input_fn)\n",
    "\n",
    "for key,value in sorted(results.items()):\n",
    "  print('{}: {}'.format(key, value))\n"
   ]
  }
 ],
 "metadata": {
  "kernelspec": {
   "display_name": "Python 3",
   "language": "python",
   "name": "python3"
  },
  "language_info": {
   "codemirror_mode": {
    "name": "ipython",
    "version": 3
   },
   "file_extension": ".py",
   "mimetype": "text/x-python",
   "name": "python",
   "nbconvert_exporter": "python",
   "pygments_lexer": "ipython3",
   "version": "3.6.6"
  },
  "toc": {
   "base_numbering": 1,
   "nav_menu": {},
   "number_sections": true,
   "sideBar": true,
   "skip_h1_title": true,
   "title_cell": "Table of Contents",
   "title_sidebar": "Contents",
   "toc_cell": true,
   "toc_position": {},
   "toc_section_display": true,
   "toc_window_display": true
  }
 },
 "nbformat": 4,
 "nbformat_minor": 2
}
